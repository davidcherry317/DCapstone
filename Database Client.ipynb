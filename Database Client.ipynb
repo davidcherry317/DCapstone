{
 "cells": [
  {
   "cell_type": "code",
   "execution_count": 1,
   "id": "1ecde4e3",
   "metadata": {},
   "outputs": [
    {
     "name": "stdout",
     "output_type": "stream",
     "text": [
      "Requirement already satisfied: mysql-connector-python in c:\\users\\nebula\\appdata\\local\\programs\\python\\python311\\lib\\site-packages (8.0.33)\n",
      "Requirement already satisfied: protobuf<=3.20.3,>=3.11.0 in c:\\users\\nebula\\appdata\\local\\programs\\python\\python311\\lib\\site-packages (from mysql-connector-python) (3.20.3)\n"
     ]
    }
   ],
   "source": [
    "!pip install mysql-connector-python"
   ]
  },
  {
   "cell_type": "code",
   "execution_count": 20,
   "id": "3f30ecc3",
   "metadata": {},
   "outputs": [],
   "source": [
    "# TASK 1\n",
    "connection = connector.connect(user='root', password='', db='littlelemondb')\n",
    "cursor = connection.cursor()"
   ]
  },
  {
   "cell_type": "code",
   "execution_count": 21,
   "id": "68ad9517",
   "metadata": {},
   "outputs": [
    {
     "name": "stdout",
     "output_type": "stream",
     "text": [
      "[('bookings',), ('customers',), ('menuitems',), ('menus',), ('orders',), ('ordersview',)]\n"
     ]
    }
   ],
   "source": [
    "# TASK 2\n",
    "show_tables_query = \"SHOW tables\" \n",
    "cursor.execute(show_tables_query)\n",
    "\n",
    "results = cursor.fetchall()\n",
    "print(results)"
   ]
  },
  {
   "cell_type": "code",
   "execution_count": 23,
   "id": "6405ac68",
   "metadata": {},
   "outputs": [
    {
     "name": "stdout",
     "output_type": "stream",
     "text": [
      "[('Laney Fadden', '1234567', 'lf@email.com', Decimal('500')), ('Merrill Baudon', '3333333', 'mb@email.com', Decimal('600')), ('Lia Bonar', '2222222', 'lb@email.com', Decimal('300')), ('Giacopo Bramich', '1111111', 'gb@email.com', Decimal('125'))]\n"
     ]
    }
   ],
   "source": [
    "# TASK 3\n",
    "query = \"\"\"\n",
    "select \n",
    "    customers.FullName, \n",
    "    customers.PhoneNumber,\n",
    "    customers.Email,\n",
    "    orders.TotalCost\n",
    "from customers\n",
    "join orders on orders.CustomerID=customers.CustomerID\n",
    "where orders.TotalCost > 60\n",
    "\"\"\"\n",
    "cursor.execute(query)\n",
    "\n",
    "results = cursor.fetchall()\n",
    "print(results)"
   ]
  },
  {
   "cell_type": "code",
   "execution_count": null,
   "id": "deebfba4",
   "metadata": {},
   "outputs": [],
   "source": []
  }
 ],
 "metadata": {
  "kernelspec": {
   "display_name": "Python 3 (ipykernel)",
   "language": "python",
   "name": "python3"
  },
  "language_info": {
   "codemirror_mode": {
    "name": "ipython",
    "version": 3
   },
   "file_extension": ".py",
   "mimetype": "text/x-python",
   "name": "python",
   "nbconvert_exporter": "python",
   "pygments_lexer": "ipython3",
   "version": "3.11.0"
  }
 },
 "nbformat": 4,
 "nbformat_minor": 5
}
